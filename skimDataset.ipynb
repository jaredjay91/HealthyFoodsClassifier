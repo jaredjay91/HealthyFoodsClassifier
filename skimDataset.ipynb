{
 "cells": [
  {
   "cell_type": "markdown",
   "id": "cbfe9dd9",
   "metadata": {},
   "source": [
    "This script classifies foods as healthy or unhealthy and yummy or yucky based on what you think about a few foods of your choice.\n",
    "The dataset is from https://www.kaggle.com/openfoodfacts/world-food-facts"
   ]
  },
  {
   "cell_type": "code",
   "execution_count": 1,
   "id": "7e48d1b0",
   "metadata": {},
   "outputs": [],
   "source": [
    "import pandas as pd\n",
    "import numpy as np"
   ]
  },
  {
   "cell_type": "markdown",
   "id": "f8e65303",
   "metadata": {},
   "source": [
    "Load the dataset. This could take a while."
   ]
  },
  {
   "cell_type": "code",
   "execution_count": 2,
   "id": "6aab21e9",
   "metadata": {},
   "outputs": [
    {
     "name": "stderr",
     "output_type": "stream",
     "text": [
      "/home/jared/.local/lib/python3.6/site-packages/IPython/core/interactiveshell.py:3072: DtypeWarning: Columns (0,3,5,19,20,24,25,26,27,28,36,37,38,39,48) have mixed types.Specify dtype option on import or set low_memory=False.\n",
      "  interactivity=interactivity, compiler=compiler, result=result)\n"
     ]
    }
   ],
   "source": [
    "df = pd.read_csv('en.openfoodfacts.org.products.tsv', sep='\\t')"
   ]
  },
  {
   "cell_type": "markdown",
   "id": "b9f1522e",
   "metadata": {},
   "source": [
    "Examine the dataset."
   ]
  },
  {
   "cell_type": "code",
   "execution_count": 3,
   "id": "cfaf4b6a",
   "metadata": {},
   "outputs": [
    {
     "name": "stdout",
     "output_type": "stream",
     "text": [
      "    code                                                url  \\\n",
      "0   3087  http://world-en.openfoodfacts.org/product/0000...   \n",
      "1   4530  http://world-en.openfoodfacts.org/product/0000...   \n",
      "2   4559  http://world-en.openfoodfacts.org/product/0000...   \n",
      "3  16087  http://world-en.openfoodfacts.org/product/0000...   \n",
      "4  16094  http://world-en.openfoodfacts.org/product/0000...   \n",
      "\n",
      "                      creator   created_t      created_datetime  \\\n",
      "0  openfoodfacts-contributors  1474103866  2016-09-17T09:17:46Z   \n",
      "1             usda-ndb-import  1489069957  2017-03-09T14:32:37Z   \n",
      "2             usda-ndb-import  1489069957  2017-03-09T14:32:37Z   \n",
      "3             usda-ndb-import  1489055731  2017-03-09T10:35:31Z   \n",
      "4             usda-ndb-import  1489055653  2017-03-09T10:34:13Z   \n",
      "\n",
      "  last_modified_t last_modified_datetime                    product_name  \\\n",
      "0      1474103893   2016-09-17T09:18:13Z              Farine de blé noir   \n",
      "1      1489069957   2017-03-09T14:32:37Z  Banana Chips Sweetened (Whole)   \n",
      "2      1489069957   2017-03-09T14:32:37Z                         Peanuts   \n",
      "3      1489055731   2017-03-09T10:35:31Z          Organic Salted Nut Mix   \n",
      "4      1489055653   2017-03-09T10:34:13Z                 Organic Polenta   \n",
      "\n",
      "  generic_name quantity  ... fruits-vegetables-nuts_100g  \\\n",
      "0          NaN      1kg  ...                         NaN   \n",
      "1          NaN      NaN  ...                         NaN   \n",
      "2          NaN      NaN  ...                         NaN   \n",
      "3          NaN      NaN  ...                         NaN   \n",
      "4          NaN      NaN  ...                         NaN   \n",
      "\n",
      "  fruits-vegetables-nuts-estimate_100g collagen-meat-protein-ratio_100g  \\\n",
      "0                                  NaN                              NaN   \n",
      "1                                  NaN                              NaN   \n",
      "2                                  NaN                              NaN   \n",
      "3                                  NaN                              NaN   \n",
      "4                                  NaN                              NaN   \n",
      "\n",
      "  cocoa_100g chlorophyl_100g carbon-footprint_100g nutrition-score-fr_100g  \\\n",
      "0        NaN             NaN                   NaN                     NaN   \n",
      "1        NaN             NaN                   NaN                    14.0   \n",
      "2        NaN             NaN                   NaN                     0.0   \n",
      "3        NaN             NaN                   NaN                    12.0   \n",
      "4        NaN             NaN                   NaN                     NaN   \n",
      "\n",
      "  nutrition-score-uk_100g glycemic-index_100g water-hardness_100g  \n",
      "0                     NaN                 NaN                 NaN  \n",
      "1                    14.0                 NaN                 NaN  \n",
      "2                     0.0                 NaN                 NaN  \n",
      "3                    12.0                 NaN                 NaN  \n",
      "4                     NaN                 NaN                 NaN  \n",
      "\n",
      "[5 rows x 163 columns]\n",
      "<class 'pandas.core.frame.DataFrame'>\n",
      "RangeIndex: 356027 entries, 0 to 356026\n",
      "Columns: 163 entries, code to water-hardness_100g\n",
      "dtypes: float64(107), object(56)\n",
      "memory usage: 442.8+ MB\n",
      "Index(['code', 'url', 'creator', 'created_t', 'created_datetime',\n",
      "       'last_modified_t', 'last_modified_datetime', 'product_name',\n",
      "       'generic_name', 'quantity',\n",
      "       ...\n",
      "       'fruits-vegetables-nuts_100g', 'fruits-vegetables-nuts-estimate_100g',\n",
      "       'collagen-meat-protein-ratio_100g', 'cocoa_100g', 'chlorophyl_100g',\n",
      "       'carbon-footprint_100g', 'nutrition-score-fr_100g',\n",
      "       'nutrition-score-uk_100g', 'glycemic-index_100g',\n",
      "       'water-hardness_100g'],\n",
      "      dtype='object', length=163)\n"
     ]
    }
   ],
   "source": [
    "print(df.head())\n",
    "df.info()\n",
    "print(df.columns)"
   ]
  },
  {
   "cell_type": "markdown",
   "id": "de367845",
   "metadata": {},
   "source": [
    "There are a lot of NaN's. Let's write a function to count the NaN entries in each column and return the proportion of entries that are NaNs."
   ]
  },
  {
   "cell_type": "code",
   "execution_count": 4,
   "id": "dfcfa872",
   "metadata": {},
   "outputs": [
    {
     "name": "stdout",
     "output_type": "stream",
     "text": [
      "code: 7.302816921188561e-05\n",
      "url: 7.302816921188561e-05\n",
      "creator: 8.426327216756033e-06\n",
      "created_t: 8.426327216756033e-06\n",
      "created_datetime: 2.8087757389186775e-05\n",
      "last_modified_t: 0.0\n",
      "last_modified_datetime: 0.0\n",
      "product_name: 0.049187280739943884\n",
      "generic_name: 0.8378943170040475\n",
      "quantity: 0.6649551859830856\n",
      "packaging: 0.7473253433026147\n",
      "packaging_tags: 0.7473253433026147\n",
      "brands: 0.08159493521558758\n",
      "brands_tags: 0.08165111073036596\n",
      "categories: 0.7098562749454396\n",
      "categories_tags: 0.7099236855631735\n",
      "categories_en: 0.7098506573939617\n",
      "origins: 0.9296401677400872\n",
      "origins_tags: 0.929746901218166\n",
      "manufacturing_places: 0.8820089487595042\n",
      "manufacturing_places_tags: 0.8820286101896766\n",
      "labels: 0.834006971381384\n",
      "labels_tags: 0.8337822693222705\n",
      "labels_en: 0.8337092411530587\n",
      "emb_codes: 0.9087428762425321\n",
      "emb_codes_tags: 0.9087541113454879\n",
      "first_packaging_code_geo: 0.9413752327772894\n",
      "cities: 0.9999269718307882\n",
      "cities_tags: 0.9367969283228519\n",
      "purchase_places: 0.8130338429388783\n",
      "stores: 0.8379308310886534\n",
      "countries: 0.0007724133282026363\n",
      "countries_tags: 0.0007724133282026363\n",
      "countries_en: 0.0007724133282026363\n",
      "ingredients_text: 0.2026082291511599\n",
      "allergens: 0.8955809531299592\n",
      "allergens_en: 0.9999438244852217\n",
      "traces: 0.9201717847241923\n",
      "traces_tags: 0.9202476216691431\n",
      "traces_en: 0.9201745934999311\n",
      "serving_size: 0.39156019065969716\n",
      "no_nutriments: 1.0\n",
      "additives_n: 0.20268125732037176\n",
      "additives: 0.20279922590140637\n",
      "additives_tags: 0.5219772657691691\n",
      "additives_en: 0.5219772657691691\n",
      "ingredients_from_palm_oil_n: 0.20268125732037176\n",
      "ingredients_from_palm_oil: 1.0\n",
      "ingredients_from_palm_oil_tags: 0.9815407258438265\n",
      "ingredients_that_may_be_from_palm_oil_n: 0.20268125732037176\n",
      "ingredients_that_may_be_from_palm_oil: 1.0\n",
      "ingredients_that_may_be_from_palm_oil_tags: 0.9597558612127732\n",
      "nutrition_grade_uk: 1.0\n",
      "nutrition_grade_fr: 0.2841666502821415\n",
      "pnns_groups_1: 0.6376510770250571\n",
      "pnns_groups_2: 0.6273063559786196\n",
      "states: 0.00014605633842377122\n",
      "states_tags: 0.00014605633842377122\n",
      "states_en: 0.00014605633842377122\n",
      "main_category: 0.7099967137323855\n",
      "main_category_en: 0.7099967137323855\n",
      "image_url: 0.7873054571703831\n",
      "image_small_url: 0.7873054571703831\n",
      "energy_100g: 0.17038033632280697\n",
      "energy-from-fat_100g: 0.9975591738828796\n",
      "fat_100g: 0.21495560729944638\n",
      "saturated-fat_100g: 0.25898035823125776\n",
      "-butyric-acid_100g: 1.0\n",
      "-caproic-acid_100g: 1.0\n",
      "-caprylic-acid_100g: 0.9999971912242611\n",
      "-capric-acid_100g: 0.9999943824485221\n",
      "-lauric-acid_100g: 0.9999887648970444\n",
      "-myristic-acid_100g: 0.9999971912242611\n",
      "-palmitic-acid_100g: 0.9999971912242611\n",
      "-stearic-acid_100g: 0.9999971912242611\n",
      "-arachidic-acid_100g: 0.9999241630550492\n",
      "-behenic-acid_100g: 0.9999269718307882\n",
      "-lignoceric-acid_100g: 1.0\n",
      "-cerotic-acid_100g: 1.0\n",
      "-montanic-acid_100g: 0.9999971912242611\n",
      "-melissic-acid_100g: 1.0\n",
      "monounsaturated-fat_100g: 0.9352858069753137\n",
      "polyunsaturated-fat_100g: 0.9351874998244515\n",
      "omega-3-fat_100g: 0.9973653683568943\n",
      "-alpha-linolenic-acid_100g: 0.9994354360764773\n",
      "-eicosapentaenoic-acid_100g: 0.9998792226432265\n",
      "-docosahexaenoic-acid_100g: 0.9997500189592362\n",
      "omega-6-fat_100g: 0.9994185834220438\n",
      "-linoleic-acid_100g: 0.999553404657512\n",
      "-arachidonic-acid_100g: 0.9999747210183497\n",
      "-gamma-linolenic-acid_100g: 0.9999241630550492\n",
      "-dihomo-gamma-linolenic-acid_100g: 0.9999269718307882\n",
      "omega-9-fat_100g: 0.999929780606527\n",
      "-oleic-acid_100g: 0.9999578683639162\n",
      "-elaidic-acid_100g: 1.0\n",
      "-gondoic-acid_100g: 0.9999550595881773\n",
      "-mead-acid_100g: 1.0\n",
      "-erucic-acid_100g: 1.0\n",
      "-nervonic-acid_100g: 1.0\n",
      "trans-fat_100g: 0.5971007816822882\n",
      "cholesterol_100g: 0.5950588017200943\n",
      "carbohydrates_100g: 0.21573363817912686\n",
      "sugars_100g: 0.2158291365542501\n",
      "-sucrose_100g: 0.999761254062192\n",
      "-glucose_100g: 0.9999101191763546\n",
      "-fructose_100g: 0.9998764138674876\n",
      "-lactose_100g: 0.9992191603445806\n",
      "-maltose_100g: 0.9999831473455665\n",
      "-maltodextrins_100g: 0.9999691034668718\n",
      "starch_100g: 0.9991826462599747\n",
      "polyols_100g: 0.9987332421417476\n",
      "fiber_100g: 0.3801509436082095\n",
      "proteins_100g: 0.1737677198639429\n",
      "casein_100g: 0.9999185455035714\n",
      "serum-proteins_100g: 0.9999522508124384\n",
      "nucleotides_100g: 0.9999747210183497\n",
      "salt_100g: 0.1861881261814413\n",
      "sodium_100g: 0.18631452108969263\n",
      "alcohol_100g: 0.9871442334429692\n",
      "vitamin-a_100g: 0.6132147280964646\n",
      "beta-carotene_100g: 0.9999016928491379\n",
      "vitamin-d_100g: 0.9797571532496131\n",
      "vitamin-e_100g: 0.9958654821123117\n",
      "vitamin-k_100g: 0.9973878385628057\n",
      "vitamin-c_100g: 0.6037940942681314\n",
      "vitamin-b1_100g: 0.9683254359922141\n",
      "vitamin-b2_100g: 0.9693141250523134\n",
      "vitamin-pp_100g: 0.9667693742328531\n",
      "vitamin-b6_100g: 0.9806278737286779\n",
      "vitamin-b9_100g: 0.9850292253115634\n",
      "folates_100g: 0.9914444690992537\n",
      "vitamin-b12_100g: 0.9848606987672284\n",
      "biotin_100g: 0.9990702952304179\n",
      "pantothenic-acid_100g: 0.9928348130900184\n",
      "silica_100g: 0.9997949593710589\n",
      "bicarbonate_100g: 0.999721931201847\n",
      "potassium_100g: 0.9302075404393487\n",
      "chloride_100g: 0.9994438624036941\n",
      "calcium_100g: 0.6025104837554455\n",
      "phosphorus_100g: 0.9833214896623009\n",
      "iron_100g: 0.6049176045636988\n",
      "magnesium_100g: 0.9820463054768318\n",
      "zinc_100g: 0.9888660129709264\n",
      "copper_100g: 0.9940397778820146\n",
      "manganese_100g: 0.9953964165639123\n",
      "fluoride_100g: 0.999721931201847\n",
      "selenium_100g: 0.9966828358523371\n",
      "chromium_100g: 0.9999353981580049\n",
      "molybdenum_100g: 0.9999438244852217\n",
      "iodine_100g: 0.9991910725871914\n",
      "caffeine_100g: 0.9997444014077584\n",
      "taurine_100g: 0.9999073104006156\n",
      "ph_100g: 0.9998539436615762\n",
      "fruits-vegetables-nuts_100g: 0.9909332719147705\n",
      "fruits-vegetables-nuts-estimate_100g: 0.9988652546014769\n",
      "collagen-meat-protein-ratio_100g: 0.9994888028155168\n",
      "cocoa_100g: 0.9961154631530754\n",
      "chlorophyl_100g: 1.0\n",
      "carbon-footprint_100g: 0.9992191603445806\n",
      "nutrition-score-fr_100g: 0.2841666502821415\n",
      "nutrition-score-uk_100g: 0.2841666502821415\n",
      "glycemic-index_100g: 1.0\n",
      "water-hardness_100g: 1.0\n"
     ]
    }
   ],
   "source": [
    "def countNaNs(df, column):\n",
    "    num_NaNs = df[column].isna().sum()\n",
    "    return num_NaNs / len(df)\n",
    "    \n",
    "for column in df.columns:\n",
    "    print(column + \": {}\".format(countNaNs(df, column)))"
   ]
  },
  {
   "cell_type": "markdown",
   "id": "3f4d83f0",
   "metadata": {},
   "source": [
    "Let's trim down our dataset by removing every column that has more that 50% NaN values."
   ]
  },
  {
   "cell_type": "code",
   "execution_count": 5,
   "id": "020cc35e",
   "metadata": {},
   "outputs": [
    {
     "name": "stdout",
     "output_type": "stream",
     "text": [
      "Remaining columns of dataframe:\n",
      "Index(['code', 'url', 'creator', 'created_t', 'created_datetime',\n",
      "       'last_modified_t', 'last_modified_datetime', 'product_name', 'brands',\n",
      "       'brands_tags', 'countries', 'countries_tags', 'countries_en',\n",
      "       'ingredients_text', 'serving_size', 'additives_n', 'additives',\n",
      "       'ingredients_from_palm_oil_n',\n",
      "       'ingredients_that_may_be_from_palm_oil_n', 'nutrition_grade_fr',\n",
      "       'states', 'states_tags', 'states_en', 'energy_100g', 'fat_100g',\n",
      "       'saturated-fat_100g', 'carbohydrates_100g', 'sugars_100g', 'fiber_100g',\n",
      "       'proteins_100g', 'salt_100g', 'sodium_100g', 'nutrition-score-fr_100g',\n",
      "       'nutrition-score-uk_100g'],\n",
      "      dtype='object')\n"
     ]
    }
   ],
   "source": [
    "def drop_column(df, column):\n",
    "    if countNaNs(df, column) > 0.5:\n",
    "        df.drop(labels=column, axis=1, inplace=True)\n",
    "\n",
    "for column in df.columns:\n",
    "    drop_column(df, column)\n",
    "\n",
    "print(\"Remaining columns of dataframe:\")\n",
    "print(df.columns)"
   ]
  },
  {
   "cell_type": "markdown",
   "id": "7d29f6a6",
   "metadata": {},
   "source": [
    "Let's look at the NaN counts again to see how the remaining columns look."
   ]
  },
  {
   "cell_type": "code",
   "execution_count": 6,
   "id": "934137f3",
   "metadata": {},
   "outputs": [
    {
     "name": "stdout",
     "output_type": "stream",
     "text": [
      "code: 7.302816921188561e-05\n",
      "url: 7.302816921188561e-05\n",
      "creator: 8.426327216756033e-06\n",
      "created_t: 8.426327216756033e-06\n",
      "created_datetime: 2.8087757389186775e-05\n",
      "last_modified_t: 0.0\n",
      "last_modified_datetime: 0.0\n",
      "product_name: 0.049187280739943884\n",
      "brands: 0.08159493521558758\n",
      "brands_tags: 0.08165111073036596\n",
      "countries: 0.0007724133282026363\n",
      "countries_tags: 0.0007724133282026363\n",
      "countries_en: 0.0007724133282026363\n",
      "ingredients_text: 0.2026082291511599\n",
      "serving_size: 0.39156019065969716\n",
      "additives_n: 0.20268125732037176\n",
      "additives: 0.20279922590140637\n",
      "ingredients_from_palm_oil_n: 0.20268125732037176\n",
      "ingredients_that_may_be_from_palm_oil_n: 0.20268125732037176\n",
      "nutrition_grade_fr: 0.2841666502821415\n",
      "states: 0.00014605633842377122\n",
      "states_tags: 0.00014605633842377122\n",
      "states_en: 0.00014605633842377122\n",
      "energy_100g: 0.17038033632280697\n",
      "fat_100g: 0.21495560729944638\n",
      "saturated-fat_100g: 0.25898035823125776\n",
      "carbohydrates_100g: 0.21573363817912686\n",
      "sugars_100g: 0.2158291365542501\n",
      "fiber_100g: 0.3801509436082095\n",
      "proteins_100g: 0.1737677198639429\n",
      "salt_100g: 0.1861881261814413\n",
      "sodium_100g: 0.18631452108969263\n",
      "nutrition-score-fr_100g: 0.2841666502821415\n",
      "nutrition-score-uk_100g: 0.2841666502821415\n"
     ]
    }
   ],
   "source": [
    "for column in df.columns:\n",
    "    print(column + \": {}\".format(countNaNs(df, column)))"
   ]
  },
  {
   "cell_type": "markdown",
   "id": "48c5130b",
   "metadata": {},
   "source": [
    "This looks pretty good. There are still some with over 20% NaNs, but I do want to keep some of those columns because they seem important, such as saturated-fat, carbs, sugars, fiber, etc. In fact, I think they are so important, that any food that doesn't have a value for those things is probably unusual and doesn't need to be included in the dataset, so I will just drop those rows."
   ]
  },
  {
   "cell_type": "code",
   "execution_count": 7,
   "id": "eab07f09",
   "metadata": {},
   "outputs": [
    {
     "name": "stdout",
     "output_type": "stream",
     "text": [
      "<class 'pandas.core.frame.DataFrame'>\n",
      "Int64Index: 197856 entries, 1 to 356022\n",
      "Data columns (total 34 columns):\n",
      " #   Column                                   Non-Null Count   Dtype  \n",
      "---  ------                                   --------------   -----  \n",
      " 0   code                                     197856 non-null  object \n",
      " 1   url                                      197856 non-null  object \n",
      " 2   creator                                  197856 non-null  object \n",
      " 3   created_t                                197856 non-null  object \n",
      " 4   created_datetime                         197855 non-null  object \n",
      " 5   last_modified_t                          197856 non-null  object \n",
      " 6   last_modified_datetime                   197856 non-null  object \n",
      " 7   product_name                             195837 non-null  object \n",
      " 8   brands                                   194100 non-null  object \n",
      " 9   brands_tags                              194093 non-null  object \n",
      " 10  countries                                197832 non-null  object \n",
      " 11  countries_tags                           197832 non-null  object \n",
      " 12  countries_en                             197832 non-null  object \n",
      " 13  ingredients_text                         191434 non-null  object \n",
      " 14  serving_size                             162900 non-null  object \n",
      " 15  additives_n                              191434 non-null  float64\n",
      " 16  additives                                191413 non-null  object \n",
      " 17  ingredients_from_palm_oil_n              191434 non-null  float64\n",
      " 18  ingredients_that_may_be_from_palm_oil_n  191434 non-null  float64\n",
      " 19  nutrition_grade_fr                       197160 non-null  object \n",
      " 20  states                                   197856 non-null  object \n",
      " 21  states_tags                              197856 non-null  object \n",
      " 22  states_en                                197856 non-null  object \n",
      " 23  energy_100g                              197856 non-null  float64\n",
      " 24  fat_100g                                 197856 non-null  float64\n",
      " 25  saturated-fat_100g                       197856 non-null  float64\n",
      " 26  carbohydrates_100g                       197856 non-null  float64\n",
      " 27  sugars_100g                              197856 non-null  float64\n",
      " 28  fiber_100g                               197856 non-null  float64\n",
      " 29  proteins_100g                            197856 non-null  float64\n",
      " 30  salt_100g                                197856 non-null  float64\n",
      " 31  sodium_100g                              197856 non-null  float64\n",
      " 32  nutrition-score-fr_100g                  197160 non-null  float64\n",
      " 33  nutrition-score-uk_100g                  197160 non-null  float64\n",
      "dtypes: float64(14), object(20)\n",
      "memory usage: 52.8+ MB\n"
     ]
    }
   ],
   "source": [
    "important_columns = ['energy_100g', 'fat_100g',\n",
    "       'saturated-fat_100g', 'carbohydrates_100g', 'sugars_100g', 'fiber_100g',\n",
    "       'proteins_100g', 'salt_100g', 'sodium_100g']\n",
    "for column in important_columns:\n",
    "    df = df[df[column].notna()]\n",
    "    \n",
    "df.info()"
   ]
  },
  {
   "cell_type": "markdown",
   "id": "380d3bd9",
   "metadata": {},
   "source": [
    "There are a few more things we can get rid of. There are several columns that are irrelevant to the project I want to do, such as code, url, creator, etc, that are unrelated to nutrition. I will remove those columns."
   ]
  },
  {
   "cell_type": "code",
   "execution_count": 8,
   "id": "8756694a",
   "metadata": {},
   "outputs": [
    {
     "name": "stdout",
     "output_type": "stream",
     "text": [
      "<class 'pandas.core.frame.DataFrame'>\n",
      "Int64Index: 197856 entries, 1 to 356022\n",
      "Data columns (total 27 columns):\n",
      " #   Column                                   Non-Null Count   Dtype  \n",
      "---  ------                                   --------------   -----  \n",
      " 0   product_name                             195837 non-null  object \n",
      " 1   brands                                   194100 non-null  object \n",
      " 2   brands_tags                              194093 non-null  object \n",
      " 3   countries                                197832 non-null  object \n",
      " 4   countries_tags                           197832 non-null  object \n",
      " 5   countries_en                             197832 non-null  object \n",
      " 6   ingredients_text                         191434 non-null  object \n",
      " 7   serving_size                             162900 non-null  object \n",
      " 8   additives_n                              191434 non-null  float64\n",
      " 9   additives                                191413 non-null  object \n",
      " 10  ingredients_from_palm_oil_n              191434 non-null  float64\n",
      " 11  ingredients_that_may_be_from_palm_oil_n  191434 non-null  float64\n",
      " 12  nutrition_grade_fr                       197160 non-null  object \n",
      " 13  states                                   197856 non-null  object \n",
      " 14  states_tags                              197856 non-null  object \n",
      " 15  states_en                                197856 non-null  object \n",
      " 16  energy_100g                              197856 non-null  float64\n",
      " 17  fat_100g                                 197856 non-null  float64\n",
      " 18  saturated-fat_100g                       197856 non-null  float64\n",
      " 19  carbohydrates_100g                       197856 non-null  float64\n",
      " 20  sugars_100g                              197856 non-null  float64\n",
      " 21  fiber_100g                               197856 non-null  float64\n",
      " 22  proteins_100g                            197856 non-null  float64\n",
      " 23  salt_100g                                197856 non-null  float64\n",
      " 24  sodium_100g                              197856 non-null  float64\n",
      " 25  nutrition-score-fr_100g                  197160 non-null  float64\n",
      " 26  nutrition-score-uk_100g                  197160 non-null  float64\n",
      "dtypes: float64(14), object(13)\n",
      "memory usage: 42.3+ MB\n",
      "                      product_name          brands     brands_tags countries  \\\n",
      "1   Banana Chips Sweetened (Whole)             NaN             NaN        US   \n",
      "2                          Peanuts  Torn & Glasser    torn-glasser        US   \n",
      "3           Organic Salted Nut Mix       Grizzlies       grizzlies        US   \n",
      "7                   Organic Muesli  Daddy's Muesli  daddy-s-muesli        US   \n",
      "12                   Zen Party Mix        Sunridge        sunridge        US   \n",
      "\n",
      "      countries_tags   countries_en  \\\n",
      "1   en:united-states  United States   \n",
      "2   en:united-states  United States   \n",
      "3   en:united-states  United States   \n",
      "7   en:united-states  United States   \n",
      "12  en:united-states  United States   \n",
      "\n",
      "                                     ingredients_text     serving_size  \\\n",
      "1   Bananas, vegetable oil (coconut oil, corn oil ...     28 g (1 ONZ)   \n",
      "2   Peanuts, wheat flour, sugar, rice flour, tapio...  28 g (0.25 cup)   \n",
      "3   Organic hazelnuts, organic cashews, organic wa...  28 g (0.25 cup)   \n",
      "7   Org oats, org hemp granola (org oats, evaporat...   64 g (0.5 cup)   \n",
      "12  Roasted peanuts (peanuts, peanut or canola oil...  30 g (0.25 cup)   \n",
      "\n",
      "    additives_n                                          additives  ...  \\\n",
      "1           0.0   [ bananas -> en:bananas  ]  [ vegetable-oil -...  ...   \n",
      "2           0.0   [ peanuts -> en:peanuts  ]  [ wheat-flour -> ...  ...   \n",
      "3           0.0   [ organic-hazelnuts -> en:organic-hazelnuts  ...  ...   \n",
      "7           1.0   [ org-oats -> en:org-oats  ]  [ oats -> en:oa...  ...   \n",
      "12          0.0   [ roasted-peanuts -> en:roasted-peanuts  ]  [...  ...   \n",
      "\n",
      "    fat_100g  saturated-fat_100g carbohydrates_100g sugars_100g fiber_100g  \\\n",
      "1      28.57               28.57              64.29       14.29        3.6   \n",
      "2      17.86                0.00              60.71       17.86        7.1   \n",
      "3      57.14                5.36              17.86        3.57        7.1   \n",
      "7      18.75                4.69              57.81       15.62        9.4   \n",
      "12     36.67                5.00              36.67        3.33        6.7   \n",
      "\n",
      "   proteins_100g  salt_100g  sodium_100g  nutrition-score-fr_100g  \\\n",
      "1           3.57    0.00000        0.000                     14.0   \n",
      "2          17.86    0.63500        0.250                      0.0   \n",
      "3          17.86    1.22428        0.482                     12.0   \n",
      "7          14.06    0.13970        0.055                      7.0   \n",
      "12         16.67    1.60782        0.633                     12.0   \n",
      "\n",
      "    nutrition-score-uk_100g  \n",
      "1                      14.0  \n",
      "2                       0.0  \n",
      "3                      12.0  \n",
      "7                       7.0  \n",
      "12                     12.0  \n",
      "\n",
      "[5 rows x 27 columns]\n"
     ]
    }
   ],
   "source": [
    "irrelevant_columns = ['code', 'url', 'creator', 'created_t', 'created_datetime',\n",
    "       'last_modified_t', 'last_modified_datetime']\n",
    "for column in irrelevant_columns:\n",
    "    df.drop(labels=column, axis=1, inplace=True)\n",
    "\n",
    "df.info()\n",
    "print(df.head())"
   ]
  },
  {
   "cell_type": "markdown",
   "id": "ea4bc37a",
   "metadata": {},
   "source": [
    "Let's examine the NaN counts again."
   ]
  },
  {
   "cell_type": "code",
   "execution_count": 9,
   "id": "129c5b66",
   "metadata": {},
   "outputs": [
    {
     "name": "stdout",
     "output_type": "stream",
     "text": [
      "product_name: 0.010204391072295002\n",
      "brands: 0.01898350315380883\n",
      "brands_tags: 0.01901888241953744\n",
      "countries: 0.00012130033964095099\n",
      "countries_tags: 0.00012130033964095099\n",
      "countries_en: 0.00012130033964095099\n",
      "ingredients_text: 0.032457949215591135\n",
      "serving_size: 0.17667394468704511\n",
      "additives_n: 0.032457949215591135\n",
      "additives: 0.03256408701277697\n",
      "ingredients_from_palm_oil_n: 0.032457949215591135\n",
      "ingredients_that_may_be_from_palm_oil_n: 0.032457949215591135\n",
      "nutrition_grade_fr: 0.003517709849587579\n",
      "states: 0.0\n",
      "states_tags: 0.0\n",
      "states_en: 0.0\n",
      "energy_100g: 0.0\n",
      "fat_100g: 0.0\n",
      "saturated-fat_100g: 0.0\n",
      "carbohydrates_100g: 0.0\n",
      "sugars_100g: 0.0\n",
      "fiber_100g: 0.0\n",
      "proteins_100g: 0.0\n",
      "salt_100g: 0.0\n",
      "sodium_100g: 0.0\n",
      "nutrition-score-fr_100g: 0.003517709849587579\n",
      "nutrition-score-uk_100g: 0.003517709849587579\n"
     ]
    }
   ],
   "source": [
    "for column in df.columns:\n",
    "    print(column + \": {}\".format(countNaNs(df, column)))"
   ]
  },
  {
   "cell_type": "markdown",
   "id": "26c381b1",
   "metadata": {},
   "source": [
    "Only a very small number of the remaining foods have NaN values somewhere in the dataset. I think that for my purposes it is safe to drop them all."
   ]
  },
  {
   "cell_type": "code",
   "execution_count": 10,
   "id": "6a17050c",
   "metadata": {},
   "outputs": [
    {
     "name": "stdout",
     "output_type": "stream",
     "text": [
      "product_name: 0.0\n",
      "brands: 0.0\n",
      "brands_tags: 0.0\n",
      "countries: 0.0\n",
      "countries_tags: 0.0\n",
      "countries_en: 0.0\n",
      "ingredients_text: 0.0\n",
      "serving_size: 0.0\n",
      "additives_n: 0.0\n",
      "additives: 0.0\n",
      "ingredients_from_palm_oil_n: 0.0\n",
      "ingredients_that_may_be_from_palm_oil_n: 0.0\n",
      "nutrition_grade_fr: 0.0\n",
      "states: 0.0\n",
      "states_tags: 0.0\n",
      "states_en: 0.0\n",
      "energy_100g: 0.0\n",
      "fat_100g: 0.0\n",
      "saturated-fat_100g: 0.0\n",
      "carbohydrates_100g: 0.0\n",
      "sugars_100g: 0.0\n",
      "fiber_100g: 0.0\n",
      "proteins_100g: 0.0\n",
      "salt_100g: 0.0\n",
      "sodium_100g: 0.0\n",
      "nutrition-score-fr_100g: 0.0\n",
      "nutrition-score-uk_100g: 0.0\n"
     ]
    }
   ],
   "source": [
    "df = df.dropna()\n",
    "for column in df.columns:\n",
    "    print(column + \": {}\".format(countNaNs(df, column)))"
   ]
  },
  {
   "cell_type": "markdown",
   "id": "bd6f926b",
   "metadata": {},
   "source": [
    "Excellent! Now let's save this dataframe as a tsv so that we have a slimmed down dataset to work with for the classifier."
   ]
  },
  {
   "cell_type": "code",
   "execution_count": 12,
   "id": "93f54a0e",
   "metadata": {},
   "outputs": [],
   "source": [
    "df.to_csv('nutrition_data.tsv', sep = '\\t', index=False)"
   ]
  }
 ],
 "metadata": {
  "kernelspec": {
   "display_name": "Python 3",
   "language": "python",
   "name": "python3"
  },
  "language_info": {
   "codemirror_mode": {
    "name": "ipython",
    "version": 3
   },
   "file_extension": ".py",
   "mimetype": "text/x-python",
   "name": "python",
   "nbconvert_exporter": "python",
   "pygments_lexer": "ipython3",
   "version": "3.6.9"
  }
 },
 "nbformat": 4,
 "nbformat_minor": 5
}
