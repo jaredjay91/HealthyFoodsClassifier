{
 "cells": [
  {
   "cell_type": "markdown",
   "id": "45b4ad61",
   "metadata": {},
   "source": [
    "Load the training data."
   ]
  },
  {
   "cell_type": "code",
   "execution_count": 4,
   "id": "240233e5",
   "metadata": {},
   "outputs": [
    {
     "name": "stdout",
     "output_type": "stream",
     "text": [
      "<class 'pandas.core.frame.DataFrame'>\n",
      "RangeIndex: 1204 entries, 0 to 1203\n",
      "Data columns (total 10 columns):\n",
      " #   Column                   Non-Null Count  Dtype  \n",
      "---  ------                   --------------  -----  \n",
      " 0   additives_n              1204 non-null   float64\n",
      " 1   fat_100g                 1204 non-null   float64\n",
      " 2   saturated-fat_100g       1204 non-null   float64\n",
      " 3   carbohydrates_100g       1204 non-null   float64\n",
      " 4   sugars_100g              1204 non-null   float64\n",
      " 5   fiber_100g               1204 non-null   float64\n",
      " 6   proteins_100g            1204 non-null   float64\n",
      " 7   sodium_100g              1204 non-null   float64\n",
      " 8   nutrition-score-uk_100g  1204 non-null   float64\n",
      " 9   healthy_label            1204 non-null   int64  \n",
      "dtypes: float64(9), int64(1)\n",
      "memory usage: 94.2 KB\n"
     ]
    }
   ],
   "source": [
    "import pandas as pd\n",
    "df_train = pd.read_csv('training_data.csv')\n",
    "df_train.info()"
   ]
  },
  {
   "cell_type": "markdown",
   "id": "418f7b17",
   "metadata": {},
   "source": [
    "Separate the dependent variable y from the 'independent' variables x."
   ]
  },
  {
   "cell_type": "code",
   "execution_count": 5,
   "id": "a8b8f037",
   "metadata": {},
   "outputs": [],
   "source": [
    "columns = df_train.columns\n",
    "x_train = df_train[columns[:-1]]\n",
    "y_train = df_train['healthy_label']"
   ]
  },
  {
   "cell_type": "markdown",
   "id": "ebcdfba8",
   "metadata": {},
   "source": [
    "Split the data for training and validation"
   ]
  },
  {
   "cell_type": "code",
   "execution_count": 6,
   "id": "09b7ad4c",
   "metadata": {},
   "outputs": [],
   "source": [
    "from sklearn.model_selection import train_test_split\n",
    "training_data, validation_data, training_labels, validation_labels = train_test_split(x_train, y_train, test_size=0.2, random_state=100)"
   ]
  },
  {
   "cell_type": "markdown",
   "id": "1454b3e9",
   "metadata": {},
   "source": [
    "Normalize the data"
   ]
  },
  {
   "cell_type": "code",
   "execution_count": 7,
   "id": "fdb938f0",
   "metadata": {},
   "outputs": [],
   "source": [
    "def normalize(df):\n",
    "    normalized_df=(df-df.min())/(df.max()-df.min())\n",
    "    return normalized_df\n",
    "  \n",
    "training_data_normalized = pd.DataFrame(normalize(training_data))"
   ]
  },
  {
   "cell_type": "markdown",
   "id": "1e0fc5de",
   "metadata": {},
   "source": [
    "Build and fit the model"
   ]
  },
  {
   "cell_type": "code",
   "execution_count": 8,
   "id": "f5124763",
   "metadata": {},
   "outputs": [
    {
     "data": {
      "text/plain": [
       "LogisticRegression()"
      ]
     },
     "execution_count": 8,
     "metadata": {},
     "output_type": "execute_result"
    }
   ],
   "source": [
    "from sklearn.linear_model import LogisticRegression\n",
    "model = LogisticRegression()\n",
    "model.fit(training_data_normalized, training_labels)"
   ]
  },
  {
   "cell_type": "markdown",
   "id": "9f73543c",
   "metadata": {},
   "source": [
    "Save and print the coefficients."
   ]
  },
  {
   "cell_type": "code",
   "execution_count": 9,
   "id": "1fbeed6c",
   "metadata": {},
   "outputs": [
    {
     "name": "stdout",
     "output_type": "stream",
     "text": [
      "[-3.57656302  0.62696898  1.41128686 -2.4964741   2.1899741   3.26844782\n",
      "  2.14304476 -2.8575396  -4.15406078]\n",
      "[2.05175856]\n"
     ]
    }
   ],
   "source": [
    "coefficients = model.coef_[0]\n",
    "intercept = model.intercept_\n",
    "print(coefficients)\n",
    "print(intercept)"
   ]
  },
  {
   "cell_type": "markdown",
   "id": "15026244",
   "metadata": {},
   "source": [
    "Make a bar chart of the coefficients to easily visualize which features have the most impact on the classification."
   ]
  },
  {
   "cell_type": "code",
   "execution_count": 12,
   "id": "1b88a461",
   "metadata": {},
   "outputs": [
    {
     "data": {
      "image/png": "[encoded data removed]",
      "text/plain": [
       "<Figure size 432x288 with 1 Axes>"
      ]
     },
     "metadata": {
      "needs_background": "light"
     },
     "output_type": "display_data"
    }
   ],
   "source": [
    "import matplotlib.pyplot as plt\n",
    "bars = range(0, len(training_data_normalized.columns))\n",
    "plt.bar(bars, coefficients)\n",
    "plt.xticks(bars, training_data_normalized.columns, rotation=90)\n",
    "plt.xlabel('feature')\n",
    "plt.ylabel('coefficient')\n",
    "plt.show()"
   ]
  },
  {
   "cell_type": "markdown",
   "id": "12408c37",
   "metadata": {},
   "source": [
    "The nutrition-score seems to have the greatest impact on what is considered healthy. That makes sense. But all the variables play a significant part in the classification. Surprisingly, fat content is the least important of all these features."
   ]
  },
  {
   "cell_type": "markdown",
   "id": "d9a9e503",
   "metadata": {},
   "source": [
    "Now we'll use the validation data to test the accuracy, recall, precision, and f1 of the model."
   ]
  },
  {
   "cell_type": "code",
   "execution_count": 13,
   "id": "3deec09f",
   "metadata": {},
   "outputs": [],
   "source": [
    "validation_data_normalized = pd.DataFrame(normalize(validation_data))\n",
    "guesses = model.predict(validation_data_normalized)"
   ]
  },
  {
   "cell_type": "code",
   "execution_count": 15,
   "id": "b0750a8a",
   "metadata": {},
   "outputs": [
    {
     "name": "stdout",
     "output_type": "stream",
     "text": [
      "accuracy =  0.7302904564315352\n",
      "recall =  0.7580645161290323\n",
      "precision =  0.7286821705426356\n",
      "f_1 =  0.7430830039525692\n"
     ]
    }
   ],
   "source": [
    "from sklearn.metrics import accuracy_score, recall_score, precision_score, f1_score\n",
    "\n",
    "labels = validation_labels\n",
    "\n",
    "accuracy = accuracy_score(labels, guesses)\n",
    "print(\"accuracy = \", accuracy)\n",
    "recall = recall_score(labels, guesses)\n",
    "print(\"recall = \", recall)\n",
    "precision = precision_score(labels, guesses)\n",
    "print(\"precision = \", precision)\n",
    "f_1 = f1_score(labels, guesses)\n",
    "print(\"f_1 = \", f_1)"
   ]
  },
  {
   "cell_type": "markdown",
   "id": "7110aae6",
   "metadata": {},
   "source": [
    "Not bad. Now we can test some foods. Let's load the rest of the skimmed dataset so we can use the data to predict whether certain foods are healthy or unhealthy."
   ]
  },
  {
   "cell_type": "code",
   "execution_count": 20,
   "id": "e23195a0",
   "metadata": {},
   "outputs": [],
   "source": [
    "df_whole = pd.read_csv('nutrition_data.tsv', sep='\\t')"
   ]
  },
  {
   "cell_type": "code",
   "execution_count": 22,
   "id": "c6288a1f",
   "metadata": {},
   "outputs": [
    {
     "name": "stdout",
     "output_type": "stream",
     "text": [
      "<class 'pandas.core.frame.DataFrame'>\n",
      "RangeIndex: 157158 entries, 0 to 157157\n",
      "Data columns (total 10 columns):\n",
      " #   Column                   Non-Null Count   Dtype  \n",
      "---  ------                   --------------   -----  \n",
      " 0   product_name             157158 non-null  object \n",
      " 1   additives_n              157158 non-null  float64\n",
      " 2   fat_100g                 157158 non-null  float64\n",
      " 3   saturated-fat_100g       157158 non-null  float64\n",
      " 4   carbohydrates_100g       157158 non-null  float64\n",
      " 5   sugars_100g              157158 non-null  float64\n",
      " 6   fiber_100g               157158 non-null  float64\n",
      " 7   proteins_100g            157158 non-null  float64\n",
      " 8   sodium_100g              157158 non-null  float64\n",
      " 9   nutrition-score-uk_100g  157158 non-null  float64\n",
      "dtypes: float64(9), object(1)\n",
      "memory usage: 12.0+ MB\n"
     ]
    }
   ],
   "source": [
    "test_columns = ['product_name',] + list(training_data.columns)\n",
    "df_test = df_whole[test_columns]\n",
    "df_test.info()"
   ]
  },
  {
   "cell_type": "code",
   "execution_count": 44,
   "id": "3bd88ecb",
   "metadata": {},
   "outputs": [],
   "source": [
    "def predict_a_food(df, food):\n",
    "    try:\n",
    "        test_rows = df[df['product_name'] == food]\n",
    "        test_data = test_rows[training_data.columns]\n",
    "        test_normalized = pd.DataFrame(normalize(test_data))\n",
    "        guesses = model.predict(test_normalized)\n",
    "        return guesses\n",
    "    except:\n",
    "        print(\"Sorry, we don't have enough information on this product to make a prediction.\")\n",
    "        return"
   ]
  },
  {
   "cell_type": "code",
   "execution_count": 45,
   "id": "dc2b7e04",
   "metadata": {},
   "outputs": [
    {
     "name": "stdout",
     "output_type": "stream",
     "text": [
      "[0 0 0 0 0 0 0 0 0 0 0 0 0 0 1 0 0 0 0 0 1 0 1 0 0 1 0 0 0 0 0 0 0 1 0 0 0\n",
      " 1 1 1 1 1 1 0 1 1 0 1 0 1]\n"
     ]
    }
   ],
   "source": [
    "predictions = predict_a_food(df_test, 'Pizza')\n",
    "print(predictions)"
   ]
  },
  {
   "cell_type": "code",
   "execution_count": 46,
   "id": "28020fbc",
   "metadata": {},
   "outputs": [
    {
     "name": "stdout",
     "output_type": "stream",
     "text": [
      "average = 0.3\n"
     ]
    }
   ],
   "source": [
    "import numpy as np\n",
    "average_score = np.mean(np.array(predictions))\n",
    "print(\"average =\", average_score)"
   ]
  },
  {
   "cell_type": "code",
   "execution_count": 52,
   "id": "82e1359d",
   "metadata": {},
   "outputs": [
    {
     "name": "stdout",
     "output_type": "stream",
     "text": [
      "[1 1 0 0 1]\n",
      "average = 0.6\n"
     ]
    }
   ],
   "source": [
    "predictions = predict_a_food(df_test, 'Asparagus')\n",
    "print(predictions)\n",
    "average_score = np.mean(np.array(predictions))\n",
    "print(\"average =\", average_score)"
   ]
  },
  {
   "cell_type": "code",
   "execution_count": null,
   "id": "a52c5b3b",
   "metadata": {},
   "outputs": [],
   "source": []
  }
 ],
 "metadata": {
  "kernelspec": {
   "display_name": "Python 3",
   "language": "python",
   "name": "python3"
  },
  "language_info": {
   "codemirror_mode": {
    "name": "ipython",
    "version": 3
   },
   "file_extension": ".py",
   "mimetype": "text/x-python",
   "name": "python",
   "nbconvert_exporter": "python",
   "pygments_lexer": "ipython3",
   "version": "3.6.9"
  }
 },
 "nbformat": 4,
 "nbformat_minor": 5
}
